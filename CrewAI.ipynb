{
 "cells": [
  {
   "cell_type": "markdown",
   "metadata": {},
   "source": [
    "# Using CrewAI with Ollama for Amazon and DuckDuckGo Searches\n",
    "\n",
    "This notebook demonstrates how to:\n",
    "- Install the necessary libraries\n",
    "- Set up and use CrewAI's tools for performing Amazon and web searches\n",
    "- Configure and use an Ollama language model with CrewAI for a simple shopping assistant task."
   ]
  },
  {
   "cell_type": "code",
   "execution_count": null,
   "metadata": {},
   "outputs": [],
   "source": [
    "# Step 1: Install CrewAI and other necessary libraries\n",
    "!pip install crewai\n",
    "!pip install langchain_community"
   ]
  },
  {
   "cell_type": "markdown",
   "metadata": {},
   "source": [
    "### Step 2: Import Libraries and Initialize Ollama Server\n",
    "We will import the necessary classes and start the Ollama server in the background if it isn't already running."
   ]
  },
  {
   "cell_type": "code",
   "execution_count": null,
   "metadata": {},
   "outputs": [],
   "source": [
    "import crewai\n",
    "from langchain_community.tools import DuckDuckGoSearchRun\n",
    "from crewai_tools import tool, WebsiteSearchTool\n",
    "from crewai import Agent, LLM\n",
    "\n",
    "# Start Ollama server in the background\n",
    "!ollama serve &>/dev/null&"
   ]
  },
  {
   "cell_type": "markdown",
   "metadata": {},
   "source": [
    "### Step 3: Configure the LLM Model\n",
    "We will configure the LLM model using Ollama's LLaVA with a specified temperature and token limit."
   ]
  },
  {
   "cell_type": "code",
   "execution_count": null,
   "metadata": {},
   "outputs": [],
   "source": [
    "# Configure the LLM model\n",
    "llm = LLM(\n",
    "    model=\"ollama/llava:13b-v1.6\",\n",
    "    temperature=0.7,\n",
    "    max_tokens=1000\n",
    ")\n",
    "print(\"LLM configured.\")"
   ]
  },
  {
   "cell_type": "markdown",
   "metadata": {},
   "source": [
    "### Step 4: Define Search Tools\n",
    "Define tools for performing Amazon and DuckDuckGo searches using CrewAI. These tools will be used by the agent during its task."
   ]
  },
  {
   "cell_type": "code",
   "execution_count": null,
   "metadata": {},
   "outputs": [],
   "source": [
    "@tool(\"Search Amazon\")\n",
    "def search_amazon(q: str) -> str:\n",
    "    \"\"\"Search Amazon\"\"\"\n",
    "    return DuckDuckGoSearchRun().run(f\"site:https://amazon.com {q}\")\n",
    "\n",
    "@tool(\"DuckDuckGoSearch\")\n",
    "def search(search_query: str):\n",
    "    \"\"\"Search the web for information on a given topic\"\"\"\n",
    "    return DuckDuckGoSearchRun().run(search_query)\n",
    "\n",
    "print(\"Search tools defined.\")"
   ]
  },
  {
   "cell_type": "markdown",
   "metadata": {},
   "source": [
    "### Step 5: Define Callback Function\n",
    "Define a callback function to handle the task output once completed."
   ]
  },
  {
   "cell_type": "code",
   "execution_count": null,
   "metadata": {},
   "outputs": [],
   "source": [
    "def callback_function(output):\n",
    "    print(f\"Task completed: {output.raw_output}\")"
   ]
  },
  {
   "cell_type": "markdown",
   "metadata": {},
   "source": [
    "### Step 6: Define the Prompt and Configure the Agent\n",
    "We will set up the agent with a specific role and goal to search for information about a good laptop under $1000 using the tools and the LLM model configured earlier."
   ]
  },
  {
   "cell_type": "code",
   "execution_count": null,
   "metadata": {},
   "outputs": [],
   "source": [
    "prompt = '''Find info on a good laptop under $1000'''\n",
    "\n",
    "agent_amazon_shopper = crewai.Agent(\n",
    "    role=\"Amazon Shopper\",\n",
    "    goal=\"Find info about a good laptop under $1000\",\n",
    "    backstory=\"As a savvy shopper, you need to find info on a good laptop under $1000\",\n",
    "    tools=[search],\n",
    "    llm=llm,\n",
    "    allow_delegation=False, verbose=True\n",
    ")\n",
    "\n",
    "print(\"Agent configured.\")"
   ]
  },
  {
   "cell_type": "markdown",
   "metadata": {},
   "source": [
    "### Step 7: Create Task and Run the Crew\n",
    "Define a task for the agent and initiate the crew to start the task execution."
   ]
  },
  {
   "cell_type": "code",
   "execution_count": null,
   "metadata": {},
   "outputs": [],
   "source": [
    "task_shop = crewai.Task(description=prompt,\n",
    "                   agent=agent_amazon_shopper,\n",
    "                   expected_output='''info on laptop''')\n",
    "\n",
    "crew = crewai.Crew(agents=[agent_amazon_shopper], tasks=[task_shop], verbose=True)\n",
    "res = crew.kickoff()\n",
    "print(res)"
   ]
  }
 ],
 "metadata": {
  "colab": {
   "name": "CrewAI_Ollama_Amazon_Search.ipynb",
   "provenance": []
  },
  "kernelspec": {
   "display_name": "Python 3",
   "language": "python",
   "name": "python3"
  },
  "language_info": {
   "name": "python"
  }
 },
 "nbformat": 4,
 "nbformat_minor": 0
}
